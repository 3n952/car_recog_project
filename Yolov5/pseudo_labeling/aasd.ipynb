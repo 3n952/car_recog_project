{
 "cells": [
  {
   "cell_type": "code",
   "execution_count": 9,
   "metadata": {},
   "outputs": [
    {
     "data": {
      "text/plain": [
       "0.7046194653910751"
      ]
     },
     "execution_count": 9,
     "metadata": {},
     "output_type": "execute_result"
    }
   ],
   "source": [
    "import cv2\n",
    "import json\n",
    "import random\n",
    "from glob import glob \n",
    "import os\n",
    "import ast\n",
    "\n",
    "\n",
    "def denormalize_bbox(bbox):\n",
    "    \n",
    "    image_width, image_height = float(3840), float(2160)\n",
    "    x_center, y_center, width, height = bbox\n",
    "\n",
    "    x_center_pixel = x_center * image_width\n",
    "    y_center_pixel = y_center * image_height\n",
    "    width_pixel = width * image_width\n",
    "    height_pixel = height * image_height\n",
    "\n",
    "    bbox = [x_center_pixel, y_center_pixel, width_pixel, height_pixel]\n",
    "\n",
    "    return bbox\n",
    "\n",
    "# box 1은 annotation data, box 2는 Pseudo label\n",
    "def calculate_iou(box1, box2):\n",
    "   \n",
    "    # width = float(3840)\n",
    "    # height = float(2160)\n",
    "\n",
    "    # 바운딩 박스는 (x_center, y_center, width, height) 형식.\n",
    "    box1 = denormalize_bbox(box1)\n",
    "    box2 = denormalize_bbox(box2)\n",
    "\n",
    "    x_center1, y_center1, width1, height1 = box1\n",
    "    x_center2, y_center2, width2, height2 = box2\n",
    "\n",
    "    # 첫 번째 바운딩 박스의 좌상단 및 우하단 좌표\n",
    "    x_min1 = x_center1 - width2 / 2\n",
    "    y_min1 = y_center1 - height2 / 2\n",
    "    x_max1 = x_center1 + width2 / 2 \n",
    "    y_max1 = y_center1 + height2 / 2\n",
    "\n",
    "    # 두 번째 바운딩 박스의 좌상단 및 우하단 좌표\n",
    "    x_min2 = x_center2 - width2 / 2\n",
    "    y_min2 = y_center2 - height2 / 2\n",
    "    x_max2 = x_center2 + width2 / 2\n",
    "    y_max2 = y_center2 + height2 / 2\n",
    "\n",
    "    # 교차 영역의 좌상단 및 우하단 좌표\n",
    "    inter_x_min = max(x_min1, x_min2)\n",
    "    inter_y_min = max(y_min1, y_min2)\n",
    "    inter_x_max = min(x_max1, x_max2)\n",
    "    inter_y_max = min(y_max1, y_max2)\n",
    "\n",
    "    # 교차 영역의 너비와 높이\n",
    "    inter_width = max(0, inter_x_max - inter_x_min)\n",
    "    inter_height = max(0, inter_y_max - inter_y_min)\n",
    "\n",
    "    # 교차 영역의 면적\n",
    "    inter_area = inter_width * inter_height\n",
    "\n",
    "    # 각 바운딩 박스의 면적\n",
    "    area1 = width1 * height1\n",
    "    area2 = width2 * height2\n",
    "\n",
    "    # 두 바운딩 박스의 합집합 영역 면적\n",
    "    union_area = area1 + area2 - inter_area\n",
    "\n",
    "    # IoU 계산\n",
    "    iou = inter_area / union_area\n",
    "\n",
    "    return iou\n",
    "\n",
    "box1 = [0.232161, 0.561343, 0.0768229, 0.123611]\n",
    "box2 = [0.227651, 0.560227, 0.070938, 0.107787]\n",
    "\n",
    "\n",
    "calculate_iou(box1, box2)"
   ]
  },
  {
   "cell_type": "code",
   "execution_count": 5,
   "metadata": {},
   "outputs": [],
   "source": [
    "box2 = denormalize_bbox(box2)"
   ]
  },
  {
   "cell_type": "code",
   "execution_count": 6,
   "metadata": {},
   "outputs": [
    {
     "data": {
      "text/plain": [
       "[2502.52416, 1813.3999199999998, 694.54848, 597.3998399999999]"
      ]
     },
     "execution_count": 6,
     "metadata": {},
     "output_type": "execute_result"
    }
   ],
   "source": [
    "box2"
   ]
  },
  {
   "cell_type": "code",
   "execution_count": 10,
   "metadata": {},
   "outputs": [
    {
     "name": "stdout",
     "output_type": "stream",
     "text": [
      "have\n"
     ]
    }
   ],
   "source": [
    "merge_bbox = [[0.232161, 0.561343, 0.0768229, 0.123611],[0.227651, 0.560227, 0.070938, 0.107787],[0.908798, 0.644104, 0.176607, 0.141282],[0.115625, 0.490509, 0.090625, 0.216204]]\n",
    "if not box1 in merge_bbox:\n",
    "    print('dont have')\n",
    "else:\n",
    "    print('have')"
   ]
  },
  {
   "cell_type": "code",
   "execution_count": null,
   "metadata": {},
   "outputs": [],
   "source": []
  }
 ],
 "metadata": {
  "kernelspec": {
   "display_name": "qbenv",
   "language": "python",
   "name": "python3"
  },
  "language_info": {
   "codemirror_mode": {
    "name": "ipython",
    "version": 3
   },
   "file_extension": ".py",
   "mimetype": "text/x-python",
   "name": "python",
   "nbconvert_exporter": "python",
   "pygments_lexer": "ipython3",
   "version": "3.12.4"
  }
 },
 "nbformat": 4,
 "nbformat_minor": 2
}
